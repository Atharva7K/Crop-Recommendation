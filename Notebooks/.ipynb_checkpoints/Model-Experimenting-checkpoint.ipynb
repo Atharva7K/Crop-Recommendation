{
 "cells": [
  {
   "cell_type": "code",
   "execution_count": 55,
   "metadata": {},
   "outputs": [
    {
     "data": {
      "text/plain": [
       "'2.24.0'"
      ]
     },
     "execution_count": 55,
     "metadata": {},
     "output_type": "execute_result"
    }
   ],
   "source": [
    "import requests\n",
    "requests.__version__"
   ]
  },
  {
   "cell_type": "code",
   "execution_count": 56,
   "metadata": {},
   "outputs": [],
   "source": [
    "import json\n",
    "import pickle\n",
    "import os"
   ]
  },
  {
   "cell_type": "code",
   "execution_count": 57,
   "metadata": {},
   "outputs": [],
   "source": [
    "import pandas as pd\n",
    "from sklearn.preprocessing import MinMaxScaler\n",
    "from sklearn.preprocessing import StandardScaler\n",
    "from sklearn.metrics import classification_report\n",
    "from sklearn.metrics import f1_score\n",
    "from sklearn.ensemble import ExtraTreesClassifier\n",
    "from sklearn.ensemble import RandomForestClassifier\n",
    "from sklearn.neighbors import KNeighborsClassifier\n",
    "from sklearn.ensemble import GradientBoostingClassifier\n",
    "import pickle\n",
    "from sklearn.model_selection import train_test_split\n",
    "from sklearn.model_selection import StratifiedKFold\n",
    "from sklearn.model_selection import cross_val_score\n",
    "from sklearn.metrics import accuracy_score\n",
    "from sklearn.linear_model import LogisticRegression\n",
    "from sklearn.tree import DecisionTreeClassifier\n",
    "from sklearn.ensemble import AdaBoostClassifier\n",
    "from sklearn.ensemble import GradientBoostingClassifier\n",
    "from sklearn.ensemble import RandomForestClassifier\n",
    "from sklearn.ensemble import ExtraTreesClassifier\n",
    "from sklearn.ensemble import VotingClassifier\n",
    "from sklearn.svm import SVC\n",
    "from sklearn.neighbors import KNeighborsClassifier\n",
    "from sklearn.metrics import accuracy_score\n",
    "import numpy as np"
   ]
  },
  {
   "cell_type": "code",
   "execution_count": 58,
   "metadata": {},
   "outputs": [],
   "source": [
    "SEED = 69"
   ]
  },
  {
   "cell_type": "code",
   "execution_count": 59,
   "metadata": {},
   "outputs": [],
   "source": [
    "data = pd.read_csv('E:\\DataScience-Projects\\Crop_Recommendation\\Data\\Crop_Recommendation.csv')"
   ]
  },
  {
   "cell_type": "code",
   "execution_count": 60,
   "metadata": {},
   "outputs": [],
   "source": [
    "x, y = data.drop('label', axis = 'columns'), data.label"
   ]
  },
  {
   "cell_type": "code",
   "execution_count": 61,
   "metadata": {},
   "outputs": [],
   "source": [
    "x_train, x_test, y_train, y_test = train_test_split(x, y, test_size = 0.10, random_state = 0)"
   ]
  },
  {
   "cell_type": "code",
   "execution_count": 62,
   "metadata": {},
   "outputs": [],
   "source": [
    "scaler = MinMaxScaler()\n",
    "x_train_scaled = scaler.fit_transform(x_train)\n",
    "x_test_scaled = scaler.transform(x_test)"
   ]
  },
  {
   "cell_type": "code",
   "execution_count": 63,
   "metadata": {},
   "outputs": [],
   "source": [
    "def GetModels():\n",
    "    basedModels = []\n",
    "    basedModels.append(('LR'   , LogisticRegression(n_jobs = -1)))\n",
    "    basedModels.append(('DRC' , DecisionTreeClassifier()))\n",
    "    basedModels.append(('AB'   , AdaBoostClassifier()))\n",
    "    basedModels.append(('GBM'  , GradientBoostingClassifier()))\n",
    "    basedModels.append(('RF'   , RandomForestClassifier(n_jobs = -1, n_estimators=200)))\n",
    "    basedModels.append(('ET'   , ExtraTreesClassifier(n_jobs = -1, n_estimators=200)))\n",
    "    basedModels.append(('SVC'   , SVC()))\n",
    "    basedModels.append(('KNN'   , KNeighborsClassifier(n_neighbors = 8)))\n",
    "    return basedModels"
   ]
  },
  {
   "cell_type": "code",
   "execution_count": 64,
   "metadata": {},
   "outputs": [],
   "source": [
    "def train_and_evaluate_models(x_train, y_train, x_test, y_test, models):\n",
    "    for name, _model in models:\n",
    "        print(_model)\n",
    "        model = _model\n",
    "        model.fit(x_train, y_train)\n",
    "        print(model.predict(np.array([90,42,43,20.87974371,82.00274423,6.502985292000001,202.9355362]).reshape(1, -1)))\n",
    "        y_pred = model.predict(x_test)\n",
    "        score = accuracy_score(y_test, y_pred)\n",
    "        print(name, score)\n",
    "        "
   ]
  },
  {
   "cell_type": "code",
   "execution_count": 65,
   "metadata": {},
   "outputs": [],
   "source": [
    "def get_models():\n",
    "    \"\"\"\n",
    "    Returns a list of classification models to train\n",
    "    :Input\n",
    "        None\n",
    "    :Returns\n",
    "        baseModels - a dictionary of classification models\n",
    "    \"\"\"\n",
    "    baseModels = {}\n",
    "    baseModels['LogisticRegression'] = LogisticRegression(n_jobs = -1)\n",
    "    baseModels['DecisionTreeClassifier'] = DecisionTreeClassifier()\n",
    "    baseModels['AdaBoostClassifier'] = AdaBoostClassifier()\n",
    "    baseModels['GradientBoostingClassifier'] = GradientBoostingClassifier()\n",
    "    baseModels['RandomForestClassifier'] = RandomForestClassifier(n_jobs = -1, n_estimators=200)\n",
    "    baseModels['ExtraTreesClassifier'] = ExtraTreesClassifier(n_jobs = -1, n_estimators=200)\n",
    "    baseModels['SupportVectorClassifier'] = SVC()\n",
    "    baseModels['KNeighborsClassifier'] = KNeighborsClassifier(n_jobs = -1)\n",
    "\n",
    "    return baseModels"
   ]
  },
  {
   "cell_type": "code",
   "execution_count": 66,
   "metadata": {},
   "outputs": [],
   "source": [
    "def train_and_evaluate_models(x_train, y_train, x_test, y_test, models):\n",
    "    \"\"\"\n",
    "    Returns a dictionary of trained models\n",
    "    :Input\n",
    "        x_train - independant variable to train model on\n",
    "        y_train - dependant variable\n",
    "        x_test - independant variable to test the model\n",
    "        y_test - true labels used to test the model\n",
    "        models - a ditionary containing objects of classification models\n",
    "    :Returns\n",
    "        models - the same dictionary of classification models after training\n",
    "    \"\"\"\n",
    "    print('****Traianing Models****')\n",
    "\n",
    "    for name, _model in models.items():\n",
    "        \n",
    "        _model.fit(x_train, y_train)\n",
    "        y_pred = _model.predict(x_test)\n",
    "        score = accuracy_score(y_test, y_pred)\n",
    "        print(name, score)\n",
    "        print(_model.predict(np.array([90,42,43,20.87974371,82.00274423,6.502985292000001,202.9355362]).reshape(1, -1)))\n",
    "    return models"
   ]
  },
  {
   "cell_type": "code",
   "execution_count": 67,
   "metadata": {},
   "outputs": [],
   "source": [
    "def preprocess_data(data, _test_size = 0.10):\n",
    "    \"\"\"\n",
    "    Preprocesses a given data frame.\n",
    "    Preprocessing includes scaling using sklearn's MinMaxScaler\n",
    "\n",
    "    :Input\n",
    "        dframe - a pandas data frame to process\n",
    "        _test_size - a float denoting size of the testing set\n",
    "    :Returns:\n",
    "        (x_train_scaled, x_test_scaled, y_train, y_test) - a tuple containing training and test vectors after Preprocessing\n",
    "    \"\"\"\n",
    "\n",
    "    x, y = data.drop('label', axis = 'columns'), data.label\n",
    "    x_train, x_test, y_train, y_test = train_test_split(x, y, test_size = _test_size, random_state = 0)\n",
    "\n",
    "    scaler = MinMaxScaler()\n",
    "    x_train_scaled = scaler.fit_transform(x_train)\n",
    "    x_test_scaled = scaler.transform(x_test)\n",
    "    print(x_train_scaled.shape, x_test_scaled.shape, y_train.shape, y_test.shape)\n",
    "    return (x_train_scaled, x_test_scaled, y_train, y_test)"
   ]
  },
  {
   "cell_type": "markdown",
   "metadata": {},
   "source": [
    "x_train, x_test, y_train, y_test = preprocess_data(data, 0.10)"
   ]
  },
  {
   "cell_type": "code",
   "execution_count": 69,
   "metadata": {},
   "outputs": [
    {
     "name": "stdout",
     "output_type": "stream",
     "text": [
      "(1980, 7) (220, 7) (1980,) (220,)\n"
     ]
    }
   ],
   "source": [
    "print(x_train.shape, x_test.shape, y_train.shape, y_test.shape)"
   ]
  },
  {
   "cell_type": "code",
   "execution_count": 70,
   "metadata": {},
   "outputs": [
    {
     "name": "stdout",
     "output_type": "stream",
     "text": [
      "****Traianing Models****\n",
      "LogisticRegression 0.9727272727272728\n",
      "['rice']\n",
      "DecisionTreeClassifier 0.9818181818181818\n",
      "['rice']\n",
      "AdaBoostClassifier 0.10909090909090909\n",
      "['cotton']\n",
      "GradientBoostingClassifier 1.0\n",
      "['rice']\n",
      "RandomForestClassifier 1.0\n",
      "['rice']\n",
      "ExtraTreesClassifier 1.0\n",
      "['rice']\n",
      "SupportVectorClassifier 0.9818181818181818\n",
      "['rice']\n",
      "KNeighborsClassifier 0.9818181818181818\n",
      "['rice']\n"
     ]
    },
    {
     "data": {
      "text/plain": [
       "{'LogisticRegression': LogisticRegression(n_jobs=-1),\n",
       " 'DecisionTreeClassifier': DecisionTreeClassifier(),\n",
       " 'AdaBoostClassifier': AdaBoostClassifier(),\n",
       " 'GradientBoostingClassifier': GradientBoostingClassifier(),\n",
       " 'RandomForestClassifier': RandomForestClassifier(n_estimators=200, n_jobs=-1),\n",
       " 'ExtraTreesClassifier': ExtraTreesClassifier(n_estimators=200, n_jobs=-1),\n",
       " 'SupportVectorClassifier': SVC(),\n",
       " 'KNeighborsClassifier': KNeighborsClassifier(n_jobs=-1)}"
      ]
     },
     "execution_count": 70,
     "metadata": {},
     "output_type": "execute_result"
    }
   ],
   "source": [
    "models = get_models()\n",
    "train_and_evaluate_models(x_train, y_train, x_test, y_test, models)"
   ]
  },
  {
   "cell_type": "code",
   "execution_count": 27,
   "metadata": {},
   "outputs": [],
   "source": [
    "def ScoreModels(X_train, y_train,models):\n",
    "    print('****Traianing Models****')\n",
    "\n",
    "    num_folds = 10\n",
    "    results = []\n",
    "    names = []\n",
    "    for name, model in models:\n",
    "        kfold = StratifiedKFold(n_splits=num_folds, random_state=SEED, shuffle = True)\n",
    "        cv_results = cross_val_score(model, X_train, y_train, cv=kfold, scoring='accuracy', n_jobs = -1)\n",
    "        results.append(cv_results)\n",
    "        names.append(name)\n",
    "        msg = \"%s: %f (%f)\" % (name, cv_results.mean(), cv_results.std())\n",
    "        print(msg)\n",
    "        \n",
    "    return names, results"
   ]
  },
  {
   "cell_type": "code",
   "execution_count": 28,
   "metadata": {
    "scrolled": true
   },
   "outputs": [
    {
     "name": "stdout",
     "output_type": "stream",
     "text": [
      "****Traianing Models****\n",
      "LR: 0.959596 (0.012777)\n",
      "DRC: 0.989394 (0.004195)\n",
      "AB: 0.139394 (0.003350)\n",
      "GBM: 0.990909 (0.004403)\n",
      "RF: 0.994444 (0.004765)\n",
      "ET: 0.990909 (0.007071)\n",
      "SVC: 0.976263 (0.012381)\n",
      "KNN: 0.973737 (0.014603)\n"
     ]
    }
   ],
   "source": [
    "\n",
    "\n",
    "names,results = ScoreModels(x_train, y_train,models)"
   ]
  },
  {
   "cell_type": "code",
   "execution_count": 36,
   "metadata": {},
   "outputs": [
    {
     "data": {
      "text/plain": [
       "array(['rice'], dtype=object)"
      ]
     },
     "execution_count": 36,
     "metadata": {},
     "output_type": "execute_result"
    }
   ],
   "source": [
    "import numpy as np\n",
    "\n",
    "models[5][1].predict(np.array([90,42,43,20.87974371,82.00274423,6.502985292000001,202.9355362]).reshape(1, -1))"
   ]
  },
  {
   "cell_type": "code",
   "execution_count": 34,
   "metadata": {},
   "outputs": [
    {
     "name": "stdout",
     "output_type": "stream",
     "text": [
      "Traianing Models\n",
      "LR: 0.940404 (0.009793)\n",
      "DRC: 0.988384 (0.005556)\n",
      "AB: 0.139394 (0.003350)\n",
      "GBM: 0.990909 (0.003779)\n",
      "RF: 0.994444 (0.004195)\n",
      "ET: 0.991919 (0.007889)\n",
      "SVC: 0.983333 (0.010114)\n"
     ]
    }
   ],
   "source": [
    "names,results = ScoreModels(x_train_scaled, y_train,models)"
   ]
  },
  {
   "cell_type": "code",
   "execution_count": 43,
   "metadata": {},
   "outputs": [
    {
     "data": {
      "text/html": [
       "<div>\n",
       "<style scoped>\n",
       "    .dataframe tbody tr th:only-of-type {\n",
       "        vertical-align: middle;\n",
       "    }\n",
       "\n",
       "    .dataframe tbody tr th {\n",
       "        vertical-align: top;\n",
       "    }\n",
       "\n",
       "    .dataframe thead th {\n",
       "        text-align: right;\n",
       "    }\n",
       "</style>\n",
       "<table border=\"1\" class=\"dataframe\">\n",
       "  <thead>\n",
       "    <tr style=\"text-align: right;\">\n",
       "      <th></th>\n",
       "      <th>N</th>\n",
       "      <th>P</th>\n",
       "      <th>K</th>\n",
       "      <th>temperature</th>\n",
       "      <th>humidity</th>\n",
       "      <th>ph</th>\n",
       "      <th>rainfall</th>\n",
       "    </tr>\n",
       "  </thead>\n",
       "  <tbody>\n",
       "    <tr>\n",
       "      <th>98</th>\n",
       "      <td>78</td>\n",
       "      <td>35</td>\n",
       "      <td>44</td>\n",
       "      <td>26.543481</td>\n",
       "      <td>84.673536</td>\n",
       "      <td>7.072656</td>\n",
       "      <td>183.622266</td>\n",
       "    </tr>\n",
       "    <tr>\n",
       "      <th>30</th>\n",
       "      <td>73</td>\n",
       "      <td>57</td>\n",
       "      <td>41</td>\n",
       "      <td>21.446540</td>\n",
       "      <td>84.943760</td>\n",
       "      <td>5.824709</td>\n",
       "      <td>272.201720</td>\n",
       "    </tr>\n",
       "    <tr>\n",
       "      <th>712</th>\n",
       "      <td>52</td>\n",
       "      <td>63</td>\n",
       "      <td>19</td>\n",
       "      <td>29.589490</td>\n",
       "      <td>68.321768</td>\n",
       "      <td>6.928899</td>\n",
       "      <td>67.530212</td>\n",
       "    </tr>\n",
       "    <tr>\n",
       "      <th>1747</th>\n",
       "      <td>34</td>\n",
       "      <td>65</td>\n",
       "      <td>48</td>\n",
       "      <td>41.419684</td>\n",
       "      <td>90.038631</td>\n",
       "      <td>6.665025</td>\n",
       "      <td>199.309643</td>\n",
       "    </tr>\n",
       "    <tr>\n",
       "      <th>703</th>\n",
       "      <td>42</td>\n",
       "      <td>73</td>\n",
       "      <td>25</td>\n",
       "      <td>34.036792</td>\n",
       "      <td>67.211138</td>\n",
       "      <td>6.501869</td>\n",
       "      <td>73.235736</td>\n",
       "    </tr>\n",
       "    <tr>\n",
       "      <th>...</th>\n",
       "      <td>...</td>\n",
       "      <td>...</td>\n",
       "      <td>...</td>\n",
       "      <td>...</td>\n",
       "      <td>...</td>\n",
       "      <td>...</td>\n",
       "      <td>...</td>\n",
       "    </tr>\n",
       "    <tr>\n",
       "      <th>1033</th>\n",
       "      <td>102</td>\n",
       "      <td>71</td>\n",
       "      <td>48</td>\n",
       "      <td>28.654563</td>\n",
       "      <td>79.286937</td>\n",
       "      <td>5.695268</td>\n",
       "      <td>102.463378</td>\n",
       "    </tr>\n",
       "    <tr>\n",
       "      <th>1731</th>\n",
       "      <td>34</td>\n",
       "      <td>68</td>\n",
       "      <td>51</td>\n",
       "      <td>27.347349</td>\n",
       "      <td>94.177567</td>\n",
       "      <td>6.687088</td>\n",
       "      <td>40.351531</td>\n",
       "    </tr>\n",
       "    <tr>\n",
       "      <th>763</th>\n",
       "      <td>35</td>\n",
       "      <td>64</td>\n",
       "      <td>15</td>\n",
       "      <td>28.474423</td>\n",
       "      <td>63.536045</td>\n",
       "      <td>6.500145</td>\n",
       "      <td>69.527441</td>\n",
       "    </tr>\n",
       "    <tr>\n",
       "      <th>835</th>\n",
       "      <td>39</td>\n",
       "      <td>65</td>\n",
       "      <td>23</td>\n",
       "      <td>25.434598</td>\n",
       "      <td>69.126134</td>\n",
       "      <td>7.685959</td>\n",
       "      <td>41.026829</td>\n",
       "    </tr>\n",
       "    <tr>\n",
       "      <th>1653</th>\n",
       "      <td>14</td>\n",
       "      <td>22</td>\n",
       "      <td>9</td>\n",
       "      <td>17.249446</td>\n",
       "      <td>91.137728</td>\n",
       "      <td>6.543192</td>\n",
       "      <td>112.509052</td>\n",
       "    </tr>\n",
       "  </tbody>\n",
       "</table>\n",
       "<p>1980 rows × 7 columns</p>\n",
       "</div>"
      ],
      "text/plain": [
       "        N   P   K  temperature   humidity        ph    rainfall\n",
       "98     78  35  44    26.543481  84.673536  7.072656  183.622266\n",
       "30     73  57  41    21.446540  84.943760  5.824709  272.201720\n",
       "712    52  63  19    29.589490  68.321768  6.928899   67.530212\n",
       "1747   34  65  48    41.419684  90.038631  6.665025  199.309643\n",
       "703    42  73  25    34.036792  67.211138  6.501869   73.235736\n",
       "...   ...  ..  ..          ...        ...       ...         ...\n",
       "1033  102  71  48    28.654563  79.286937  5.695268  102.463378\n",
       "1731   34  68  51    27.347349  94.177567  6.687088   40.351531\n",
       "763    35  64  15    28.474423  63.536045  6.500145   69.527441\n",
       "835    39  65  23    25.434598  69.126134  7.685959   41.026829\n",
       "1653   14  22   9    17.249446  91.137728  6.543192  112.509052\n",
       "\n",
       "[1980 rows x 7 columns]"
      ]
     },
     "execution_count": 43,
     "metadata": {},
     "output_type": "execute_result"
    }
   ],
   "source": [
    "x_train"
   ]
  },
  {
   "cell_type": "code",
   "execution_count": 68,
   "metadata": {},
   "outputs": [
    {
     "data": {
      "text/plain": [
       "<bound method GradientBoostingClassifier.predict of GradientBoostingClassifier()>"
      ]
     },
     "execution_count": 68,
     "metadata": {},
     "output_type": "execute_result"
    }
   ],
   "source": [
    "models[3][1].predict\n"
   ]
  },
  {
   "cell_type": "code",
   "execution_count": 77,
   "metadata": {},
   "outputs": [],
   "source": [
    "rfc = RandomForestClassifier()\n",
    "rfc.fit(x_train, y_train)\n",
    "y_pred = rfc.predict(x_test)\n",
    "report = classification_report(y_test, y_pred, output_dict=True)"
   ]
  }
 ],
 "metadata": {
  "kernelspec": {
   "display_name": "Python 3",
   "language": "python",
   "name": "python3"
  },
  "language_info": {
   "codemirror_mode": {
    "name": "ipython",
    "version": 3
   },
   "file_extension": ".py",
   "mimetype": "text/x-python",
   "name": "python",
   "nbconvert_exporter": "python",
   "pygments_lexer": "ipython3",
   "version": "3.7.9"
  }
 },
 "nbformat": 4,
 "nbformat_minor": 4
}
